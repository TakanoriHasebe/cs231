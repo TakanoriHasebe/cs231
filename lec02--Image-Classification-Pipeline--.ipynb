{
 "cells": [
  {
   "cell_type": "markdown",
   "metadata": {},
   "source": [
    "## <font color='blue'>An image classifier</font>"
   ]
  },
  {
   "cell_type": "code",
   "execution_count": 1,
   "metadata": {
    "collapsed": true
   },
   "outputs": [],
   "source": [
    "def predict(image):\n",
    "    \n",
    "    return class_label"
   ]
  },
  {
   "cell_type": "markdown",
   "metadata": {},
   "source": [
    "Unlike e.g. sorting a list of numbers<br>\n",
    "<font color='red'>no obvious way</font> to hard-code the algorithm for recognizing a cat, or other classes."
   ]
  },
  {
   "cell_type": "markdown",
   "metadata": {},
   "source": [
    "## <font color='blue'>Data-driven approach</font>"
   ]
  },
  {
   "cell_type": "markdown",
   "metadata": {},
   "source": [
    "<ol>\n",
    "<li>Collect a dataset of images and labels</li>\n",
    "<li>Use Machine Learning to train an image classifier</li>\n",
    "<li>Evaluate the classifier on a withheld set of test images</li>\n",
    "</ol>"
   ]
  },
  {
   "cell_type": "code",
   "execution_count": 2,
   "metadata": {
    "collapsed": true
   },
   "outputs": [],
   "source": [
    "def train(train_images, train_labels):\n",
    "    # build a  model for images -> labels ...\n",
    "    return model"
   ]
  },
  {
   "cell_type": "code",
   "execution_count": 3,
   "metadata": {
    "collapsed": true
   },
   "outputs": [],
   "source": [
    "def predict(model, test_images):\n",
    "    # predict test_labels using the model ...\n",
    "    return test_labels"
   ]
  },
  {
   "cell_type": "markdown",
   "metadata": {},
   "source": [
    "## <font color='blue'>First classifier: Nearest Neighbor Classifier</font>"
   ]
  },
  {
   "cell_type": "markdown",
   "metadata": {},
   "source": [
    "Remember all training images and their labels.<br>\n",
    "Predict the label of the most similar training image.<br>"
   ]
  },
  {
   "cell_type": "markdown",
   "metadata": {},
   "source": [
    "### <font color='blue'>How do we compare the images? What is the distance metric?</font>"
   ]
  },
  {
   "cell_type": "markdown",
   "metadata": {},
   "source": [
    "### L1 distance: $d_{1}(I_{1}, I_{2}) = \\Sigma_{p}| I_{1}^{p} - I_{2}^{p} |$"
   ]
  },
  {
   "cell_type": "markdown",
   "metadata": {},
   "source": [
    "11:19 - <br>\n",
    "https://www.youtube.com/watch?v=hAeos2TocJ8&list=PLlJy-eBtNFt6EuMxFYRiNRS07MCWN5UIA#t=678.615177"
   ]
  },
  {
   "cell_type": "markdown",
   "metadata": {},
   "source": [
    "### <font color='blue'>Nearest Neighbor Classifier Program</font>"
   ]
  },
  {
   "cell_type": "markdown",
   "metadata": {},
   "source": [
    "11:39 - <br>\n",
    "https://www.youtube.com/watch?v=hAeos2TocJ8&list=PLlJy-eBtNFt6EuMxFYRiNRS07MCWN5UIA#t=678.615177"
   ]
  },
  {
   "cell_type": "markdown",
   "metadata": {},
   "source": [
    "### <font color='blue'>How does the classification speed depend on the size of the traning data?</font>"
   ]
  },
  {
   "cell_type": "markdown",
   "metadata": {},
   "source": [
    "linealy"
   ]
  },
  {
   "cell_type": "markdown",
   "metadata": {},
   "source": [
    "### <font color='blue'>The choice of distance is a hyperparameter</font>"
   ]
  },
  {
   "cell_type": "markdown",
   "metadata": {},
   "source": [
    "common choice:<br>\n",
    "L1 (Manhattan) distance or L2 (Euclidean) distance"
   ]
  },
  {
   "cell_type": "markdown",
   "metadata": {},
   "source": [
    "### <font color='blue'>K-Nearest Neigbor</font>"
   ]
  },
  {
   "cell_type": "markdown",
   "metadata": {},
   "source": [
    "find the k nearest images, have them vote on the label"
   ]
  },
  {
   "cell_type": "markdown",
   "metadata": {},
   "source": [
    "### <font color='blue'>What is the best distance to use?</font>  <font color='blue'>What is the best value of k to use?</font>"
   ]
  },
  {
   "cell_type": "markdown",
   "metadata": {},
   "source": [
    "how do we set the hyperparameters?\n",
    "<font color='red'>Very problem-dependent.</font><br>\n",
    "<font color='red'>Must try them all out and see what works best.</font>"
   ]
  },
  {
   "cell_type": "markdown",
   "metadata": {},
   "source": [
    "## <font color='blue'>Summary</font>"
   ]
  },
  {
   "cell_type": "markdown",
   "metadata": {},
   "source": [
    "<li>Image Classification: Predict Test Set of Accuracy of Training Dataset.</li>\n",
    "<li>introduced k-Nearest Neighbor Classifier</li>\n",
    "<li>Choice of distance and value of k use a validation set, or through cross-validation if the size of data is small.</li>\n",
    "<li>Report the performance of kNN on that data.</li>"
   ]
  },
  {
   "cell_type": "code",
   "execution_count": null,
   "metadata": {
    "collapsed": true
   },
   "outputs": [],
   "source": []
  }
 ],
 "metadata": {
  "kernelspec": {
   "display_name": "Python [conda root]",
   "language": "python",
   "name": "conda-root-py"
  },
  "language_info": {
   "codemirror_mode": {
    "name": "ipython",
    "version": 3
   },
   "file_extension": ".py",
   "mimetype": "text/x-python",
   "name": "python",
   "nbconvert_exporter": "python",
   "pygments_lexer": "ipython3",
   "version": "3.5.2"
  }
 },
 "nbformat": 4,
 "nbformat_minor": 2
}
